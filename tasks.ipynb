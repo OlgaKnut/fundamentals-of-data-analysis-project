{
 "cells": [
  {
   "cell_type": "markdown",
   "metadata": {},
   "source": [
    "### **Fundamentals of Data Analysis Tasks**\n",
    "\n",
    "**Olga Knutova**\n",
    "***\n",
    "This  notebook contains my solutions to the tasks for Fundamentals of Data Analysis module of Higher Diploma in Science in Data Analytics 23-24 Atlantic Technological University"
   ]
  },
  {
   "cell_type": "markdown",
   "metadata": {},
   "source": [
    "## Task 1. \n",
    "***\n",
    "To verify, using Python, that the Collatz conjecture is true for\n",
    "the first 10,000 positive integers.\n",
    "\n",
    "> The Collatz conjecture is a famous unsolved problem in mathematics. \n",
    "The problem is to prove that if you start with any positive\n",
    "integer x and repeatedly apply the function f(x) below, you always get stuck in the repeating sequence 1, 4, 2, 1, 4, 2, . . .\n",
    "\n",
    ">f(x) =\n",
    "x ÷ 2  if x is even  3x + 1  otherwise\n"
   ]
  },
  {
   "cell_type": "code",
   "execution_count": 1,
   "metadata": {},
   "outputs": [],
   "source": [
    "def f(z):\n",
    "    #If z is even, devide it by two.\n",
    "    if z%2==0:\n",
    "        return z//2\n",
    "    # If z is odd multiply by 3 and add 1\n",
    "    else:\n",
    "        return (z*3)+1"
   ]
  },
  {
   "cell_type": "code",
   "execution_count": 2,
   "metadata": {},
   "outputs": [],
   "source": [
    "\n",
    "def collatz(y):\n",
    "    s=0\n",
    "    while y!=1:\n",
    "        y=f(y)\n",
    "        s+=1\n",
    "        if s==500:\n",
    "            return(0)\n",
    "    return(y)\n"
   ]
  },
  {
   "cell_type": "markdown",
   "metadata": {},
   "source": [
    "https://en.wikipedia.org/wiki/Collatz_conjecture\n",
    "The starting value having the largest total stopping time while being\n",
    "\n",
    "less than 10 is 9, which has 19 steps,\n",
    "less than 100 is 97, which has 118 steps,\n",
    "less than 1000 is 871, which has 178 steps,\n",
    "less than 104 is 6171, which has 261 steps,"
   ]
  },
  {
   "cell_type": "code",
   "execution_count": null,
   "metadata": {},
   "outputs": [],
   "source": [
    "n=0\n",
    "for x in range (1, 10001):\n",
    "    if collatz(x) == 1:\n",
    "        n+=1\n",
    "    else:\n",
    "        print(f\"Collatz conjecture is not true for {x}\")\n",
    "if n==10000:\n",
    "    print(\"Collatz conjecture is valid for the first 10000 positive integers\")  "
   ]
  },
  {
   "cell_type": "markdown",
   "metadata": {},
   "source": [
    "## Task 2. \n",
    "***\n",
    "Give an overview of the famous penguins data set, explaining the types of variables it contains. Suggest the types of variables that should be used to model them in Python, explaining your\n",
    "rationale"
   ]
  },
  {
   "cell_type": "code",
   "execution_count": 8,
   "metadata": {},
   "outputs": [],
   "source": [
    "import pandas as pd"
   ]
  },
  {
   "cell_type": "code",
   "execution_count": 12,
   "metadata": {},
   "outputs": [],
   "source": [
    "penguins_df = pd.read_csv(\"https://raw.githubusercontent.com/mwaskom/seaborn-data/master/penguins.csv\")"
   ]
  },
  {
   "cell_type": "code",
   "execution_count": null,
   "metadata": {},
   "outputs": [],
   "source": [
    "\n",
    "print(penguins_df.head())\n",
    "print(\"------\")\n",
    "print(\"shape:\", penguins_df.shape)\n",
    "print(\"------\")\n",
    "print(penguins_df[\"species\"].value_counts())\n",
    "print(\"------\")\n",
    "print(penguins_df[\"island\"].value_counts())"
   ]
  },
  {
   "cell_type": "markdown",
   "metadata": {},
   "source": [
    "####Types of variables in Penguins data set\n",
    "As we can see in shape output this data set contains 7 variables that can be groupped in two main types : Categorical (species, island, sex) and Quantitative (bill_length_mm,bill_depth_mm, flipper_length_mm, body_mass_g).\n",
    "All Quantitative variables in this dataset are Continuous. \n",
    "Out of three Categorical variables one is Binary (sex) and other two are Nominal.\n",
    "\n",
    "####To model in Python \n",
    "For all Quantitative variables to model in Python we can use a floating point numbers.\n",
    "If we have a better look at body_mass_g and flipper_lenghh_mm variables, they dont containe any numbers after decimal point, so they can be modeled in integers.\n",
    "All mesurments are positive real numbers.\n",
    "Categorical variables modeled as a string. It is possible to model sex variable as an integer for example Male=1 and Female=2"
   ]
  },
  {
   "cell_type": "markdown",
   "metadata": {},
   "source": [
    "## Task 3. \n",
    "***\n",
    "For each of the variables in the penguins data set, suggest what probability distribution from the numpy random distributions list is the most appropriate to model the variable.\n",
    "\n",
    "For mesurmentsQuantitative variables (bill_length_mm,bill_depth_mm, flipper_length_mm, body_mass_g) Normal Distribution is most appropriate it doesnt look right if you plot variable of all data set as one. But if you plot mesurments of each spieses separatly you will see bell shape tipical for normal distribution.\n",
    "\n",
    "For variable \"sex\" Binominal Distribution is more appropriat\n",
    "For \"species\", \"island\" -Multinominal Distribution as possible outcome is more than two.\n"
   ]
  },
  {
   "cell_type": "code",
   "execution_count": null,
   "metadata": {},
   "outputs": [],
   "source": [
    "import numpy as np"
   ]
  },
  {
   "cell_type": "markdown",
   "metadata": {},
   "source": [
    "## Task 4. \n",
    "***\n",
    "Suppose you are flipping two coins, each with a probability p of\n",
    "giving heads. Plot the entropy of the total number of heads versus\n",
    "p\n"
   ]
  },
  {
   "cell_type": "code",
   "execution_count": null,
   "metadata": {},
   "outputs": [],
   "source": [
    "from numpy import random\n",
    "\n",
    "x = random.binomial(n=2, p=0.5, size=10)\n",
    "\n",
    "print(x)"
   ]
  },
  {
   "cell_type": "markdown",
   "metadata": {},
   "source": [
    "## Task 5. \n",
    "***\n",
    "Create an appropriate individual plot for each of the variables in\n",
    "the penguin data set.\n",
    "#organising dataset\n",
    "\n",
    "#col_bill_l=\"bill_length_mm\"\n",
    "#col_bill_d=\"bill_depth_mm\"\n",
    "#col_flipper_l=\"flipper_length_mm\"\n",
    "#col_bm=\"body_mass_g\"\n",
    "\n",
    "\n",
    "#col=['species', 'island', col_bill_l, col_bill_d, col_flipper_l, col_bm, 'sex']\n",
    "#penguins_all=pd.read_csv('penguins.csv', names=col)"
   ]
  },
  {
   "cell_type": "markdown",
   "metadata": {},
   "source": [
    "***\n",
    "## End"
   ]
  }
 ],
 "metadata": {
  "kernelspec": {
   "display_name": "base",
   "language": "python",
   "name": "python3"
  },
  "language_info": {
   "codemirror_mode": {
    "name": "ipython",
    "version": 3
   },
   "file_extension": ".py",
   "mimetype": "text/x-python",
   "name": "python",
   "nbconvert_exporter": "python",
   "pygments_lexer": "ipython3",
   "version": "3.9.13"
  }
 },
 "nbformat": 4,
 "nbformat_minor": 2
}
