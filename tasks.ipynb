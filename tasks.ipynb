{
 "cells": [
  {
   "cell_type": "markdown",
   "metadata": {},
   "source": [
    "### **Fundamentals of Data Analysis Tasks**\n",
    "\n",
    "**Olga Knutova**\n",
    "***\n",
    "This  notebook contains my solutions to the tasks for Fundamentals of Data Analysis module of Higher Diploma in Science in Data Analytics 23-24 Atlantic Technological University"
   ]
  },
  {
   "cell_type": "markdown",
   "metadata": {},
   "source": [
    "## Task 1. \n",
    "***\n",
    "To verify, using Python, that the Collatz conjecture is true for\n",
    "the first 10,000 positive integers.\n",
    "\n",
    "> The Collatz conjecture is a famous unsolved problem in mathematics. \n",
    "The problem is to prove that if you start with any positive\n",
    "integer x and repeatedly apply the function f(x) below, you always get stuck in the repeating sequence 1, 4, 2, 1, 4, 2, . . .\n",
    "\n",
    ">f(x) =\n",
    "x ÷ 2  if x is even  3x + 1  otherwise\n"
   ]
  },
  {
   "cell_type": "code",
   "execution_count": 1,
   "metadata": {},
   "outputs": [],
   "source": [
    "def f(z):\n",
    "    #If z is even, devide it by two.\n",
    "    if z%2==0:\n",
    "        return z//2\n",
    "    # If z is odd multiply by 3 and add 1\n",
    "    else:\n",
    "        return (z*3)+1"
   ]
  },
  {
   "cell_type": "code",
   "execution_count": 2,
   "metadata": {},
   "outputs": [],
   "source": [
    "\n",
    "def collatz(y):\n",
    "    s=0\n",
    "    while y!=1:\n",
    "        y=f(y)\n",
    "        s+=1\n",
    "        if s==500:\n",
    "            return(0)\n",
    "    return(y)\n"
   ]
  },
  {
   "cell_type": "markdown",
   "metadata": {},
   "source": [
    "https://en.wikipedia.org/wiki/Collatz_conjecture\n",
    "The starting value having the largest total stopping time while being\n",
    "\n",
    "less than 10 is 9, which has 19 steps,\n",
    "less than 100 is 97, which has 118 steps,\n",
    "less than 1000 is 871, which has 178 steps,\n",
    "less than 104 is 6171, which has 261 steps,"
   ]
  },
  {
   "cell_type": "code",
   "execution_count": null,
   "metadata": {},
   "outputs": [],
   "source": [
    "n=0\n",
    "for x in range (1, 10001):\n",
    "    if collatz(x) == 1:\n",
    "        n+=1\n",
    "    else:\n",
    "        print(f\"Collatz conjecture is not true for {x}\")\n",
    "if n==10000:\n",
    "    print(\"Collatz conjecture is valid for the first 10000 positive integers\")  "
   ]
  },
  {
   "cell_type": "markdown",
   "metadata": {},
   "source": [
    "## Task 2. \n",
    "***\n",
    "Give an overview of the famous penguins data set, explaining the types of variables it contains. Suggest the types of variables that should be used to model them in Python, explaining your\n",
    "rationale"
   ]
  },
  {
   "cell_type": "markdown",
   "metadata": {},
   "source": [
    "## Task 3. \n",
    "***\n",
    "For each of the variables in the penguins data set, suggest what probability distribution from the numpy random distributions list is the most appropriate to model the variable."
   ]
  },
  {
   "cell_type": "markdown",
   "metadata": {},
   "source": [
    "## Task 4. \n",
    "***\n",
    "Suppose you are flipping two coins, each with a probability p of\n",
    "giving heads. Plot the entropy of the total number of heads versus\n",
    "p"
   ]
  },
  {
   "cell_type": "markdown",
   "metadata": {},
   "source": [
    "## Task 5. \n",
    "***\n",
    "Create an appropriate individual plot for each of the variables in\n",
    "the penguin data set."
   ]
  },
  {
   "cell_type": "markdown",
   "metadata": {},
   "source": [
    "***\n",
    "## End"
   ]
  }
 ],
 "metadata": {
  "kernelspec": {
   "display_name": "base",
   "language": "python",
   "name": "python3"
  },
  "language_info": {
   "codemirror_mode": {
    "name": "ipython",
    "version": 3
   },
   "file_extension": ".py",
   "mimetype": "text/x-python",
   "name": "python",
   "nbconvert_exporter": "python",
   "pygments_lexer": "ipython3",
   "version": "3.9.13"
  }
 },
 "nbformat": 4,
 "nbformat_minor": 2
}
